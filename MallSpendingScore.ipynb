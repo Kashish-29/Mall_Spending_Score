{
  "nbformat": 4,
  "nbformat_minor": 0,
  "metadata": {
    "colab": {
      "provenance": [],
      "authorship_tag": "ABX9TyPhT8wndqnFf7OdzhA0Al2M",
      "include_colab_link": true
    },
    "kernelspec": {
      "name": "python3",
      "display_name": "Python 3"
    },
    "language_info": {
      "name": "python"
    }
  },
  "cells": [
    {
      "cell_type": "markdown",
      "metadata": {
        "id": "view-in-github",
        "colab_type": "text"
      },
      "source": [
        "<a href=\"https://colab.research.google.com/github/Kashish-29/Mall_Spending_Score/blob/main/MallSpendingScore.ipynb\" target=\"_parent\"><img src=\"https://colab.research.google.com/assets/colab-badge.svg\" alt=\"Open In Colab\"/></a>"
      ]
    },
    {
      "cell_type": "code",
      "execution_count": null,
      "metadata": {
        "colab": {
          "base_uri": "https://localhost:8080/"
        },
        "id": "TmbQWhbDfiZ9",
        "outputId": "e77a18b8-2a3e-4d9c-97b3-6d6ff1e040d3"
      },
      "outputs": [
        {
          "output_type": "stream",
          "name": "stdout",
          "text": [
            "Looking in indexes: https://pypi.org/simple, https://us-python.pkg.dev/colab-wheels/public/simple/\n",
            "Requirement already satisfied: pandas in /usr/local/lib/python3.7/dist-packages (1.3.5)\n",
            "Requirement already satisfied: numpy>=1.17.3 in /usr/local/lib/python3.7/dist-packages (from pandas) (1.21.6)\n",
            "Requirement already satisfied: pytz>=2017.3 in /usr/local/lib/python3.7/dist-packages (from pandas) (2022.6)\n",
            "Requirement already satisfied: python-dateutil>=2.7.3 in /usr/local/lib/python3.7/dist-packages (from pandas) (2.8.2)\n",
            "Requirement already satisfied: six>=1.5 in /usr/local/lib/python3.7/dist-packages (from python-dateutil>=2.7.3->pandas) (1.15.0)\n"
          ]
        }
      ],
      "source": [
        "!pip install pandas"
      ]
    },
    {
      "cell_type": "code",
      "source": [
        "import pandas as pd\n",
        "import numpy as np"
      ],
      "metadata": {
        "id": "73TUaXrCfrrB"
      },
      "execution_count": null,
      "outputs": []
    },
    {
      "cell_type": "code",
      "source": [
        "from google.colab import files\n",
        "uploaded = files.upload()"
      ],
      "metadata": {
        "colab": {
          "base_uri": "https://localhost:8080/",
          "height": 73
        },
        "id": "aEATrgedgHR8",
        "outputId": "297c8bed-4a10-42a7-ba99-3d6d32c894f0"
      },
      "execution_count": null,
      "outputs": [
        {
          "output_type": "display_data",
          "data": {
            "text/plain": [
              "<IPython.core.display.HTML object>"
            ],
            "text/html": [
              "\n",
              "     <input type=\"file\" id=\"files-e7dd6469-65a3-4742-8d86-49a5b0676945\" name=\"files[]\" multiple disabled\n",
              "        style=\"border:none\" />\n",
              "     <output id=\"result-e7dd6469-65a3-4742-8d86-49a5b0676945\">\n",
              "      Upload widget is only available when the cell has been executed in the\n",
              "      current browser session. Please rerun this cell to enable.\n",
              "      </output>\n",
              "      <script>// Copyright 2017 Google LLC\n",
              "//\n",
              "// Licensed under the Apache License, Version 2.0 (the \"License\");\n",
              "// you may not use this file except in compliance with the License.\n",
              "// You may obtain a copy of the License at\n",
              "//\n",
              "//      http://www.apache.org/licenses/LICENSE-2.0\n",
              "//\n",
              "// Unless required by applicable law or agreed to in writing, software\n",
              "// distributed under the License is distributed on an \"AS IS\" BASIS,\n",
              "// WITHOUT WARRANTIES OR CONDITIONS OF ANY KIND, either express or implied.\n",
              "// See the License for the specific language governing permissions and\n",
              "// limitations under the License.\n",
              "\n",
              "/**\n",
              " * @fileoverview Helpers for google.colab Python module.\n",
              " */\n",
              "(function(scope) {\n",
              "function span(text, styleAttributes = {}) {\n",
              "  const element = document.createElement('span');\n",
              "  element.textContent = text;\n",
              "  for (const key of Object.keys(styleAttributes)) {\n",
              "    element.style[key] = styleAttributes[key];\n",
              "  }\n",
              "  return element;\n",
              "}\n",
              "\n",
              "// Max number of bytes which will be uploaded at a time.\n",
              "const MAX_PAYLOAD_SIZE = 100 * 1024;\n",
              "\n",
              "function _uploadFiles(inputId, outputId) {\n",
              "  const steps = uploadFilesStep(inputId, outputId);\n",
              "  const outputElement = document.getElementById(outputId);\n",
              "  // Cache steps on the outputElement to make it available for the next call\n",
              "  // to uploadFilesContinue from Python.\n",
              "  outputElement.steps = steps;\n",
              "\n",
              "  return _uploadFilesContinue(outputId);\n",
              "}\n",
              "\n",
              "// This is roughly an async generator (not supported in the browser yet),\n",
              "// where there are multiple asynchronous steps and the Python side is going\n",
              "// to poll for completion of each step.\n",
              "// This uses a Promise to block the python side on completion of each step,\n",
              "// then passes the result of the previous step as the input to the next step.\n",
              "function _uploadFilesContinue(outputId) {\n",
              "  const outputElement = document.getElementById(outputId);\n",
              "  const steps = outputElement.steps;\n",
              "\n",
              "  const next = steps.next(outputElement.lastPromiseValue);\n",
              "  return Promise.resolve(next.value.promise).then((value) => {\n",
              "    // Cache the last promise value to make it available to the next\n",
              "    // step of the generator.\n",
              "    outputElement.lastPromiseValue = value;\n",
              "    return next.value.response;\n",
              "  });\n",
              "}\n",
              "\n",
              "/**\n",
              " * Generator function which is called between each async step of the upload\n",
              " * process.\n",
              " * @param {string} inputId Element ID of the input file picker element.\n",
              " * @param {string} outputId Element ID of the output display.\n",
              " * @return {!Iterable<!Object>} Iterable of next steps.\n",
              " */\n",
              "function* uploadFilesStep(inputId, outputId) {\n",
              "  const inputElement = document.getElementById(inputId);\n",
              "  inputElement.disabled = false;\n",
              "\n",
              "  const outputElement = document.getElementById(outputId);\n",
              "  outputElement.innerHTML = '';\n",
              "\n",
              "  const pickedPromise = new Promise((resolve) => {\n",
              "    inputElement.addEventListener('change', (e) => {\n",
              "      resolve(e.target.files);\n",
              "    });\n",
              "  });\n",
              "\n",
              "  const cancel = document.createElement('button');\n",
              "  inputElement.parentElement.appendChild(cancel);\n",
              "  cancel.textContent = 'Cancel upload';\n",
              "  const cancelPromise = new Promise((resolve) => {\n",
              "    cancel.onclick = () => {\n",
              "      resolve(null);\n",
              "    };\n",
              "  });\n",
              "\n",
              "  // Wait for the user to pick the files.\n",
              "  const files = yield {\n",
              "    promise: Promise.race([pickedPromise, cancelPromise]),\n",
              "    response: {\n",
              "      action: 'starting',\n",
              "    }\n",
              "  };\n",
              "\n",
              "  cancel.remove();\n",
              "\n",
              "  // Disable the input element since further picks are not allowed.\n",
              "  inputElement.disabled = true;\n",
              "\n",
              "  if (!files) {\n",
              "    return {\n",
              "      response: {\n",
              "        action: 'complete',\n",
              "      }\n",
              "    };\n",
              "  }\n",
              "\n",
              "  for (const file of files) {\n",
              "    const li = document.createElement('li');\n",
              "    li.append(span(file.name, {fontWeight: 'bold'}));\n",
              "    li.append(span(\n",
              "        `(${file.type || 'n/a'}) - ${file.size} bytes, ` +\n",
              "        `last modified: ${\n",
              "            file.lastModifiedDate ? file.lastModifiedDate.toLocaleDateString() :\n",
              "                                    'n/a'} - `));\n",
              "    const percent = span('0% done');\n",
              "    li.appendChild(percent);\n",
              "\n",
              "    outputElement.appendChild(li);\n",
              "\n",
              "    const fileDataPromise = new Promise((resolve) => {\n",
              "      const reader = new FileReader();\n",
              "      reader.onload = (e) => {\n",
              "        resolve(e.target.result);\n",
              "      };\n",
              "      reader.readAsArrayBuffer(file);\n",
              "    });\n",
              "    // Wait for the data to be ready.\n",
              "    let fileData = yield {\n",
              "      promise: fileDataPromise,\n",
              "      response: {\n",
              "        action: 'continue',\n",
              "      }\n",
              "    };\n",
              "\n",
              "    // Use a chunked sending to avoid message size limits. See b/62115660.\n",
              "    let position = 0;\n",
              "    do {\n",
              "      const length = Math.min(fileData.byteLength - position, MAX_PAYLOAD_SIZE);\n",
              "      const chunk = new Uint8Array(fileData, position, length);\n",
              "      position += length;\n",
              "\n",
              "      const base64 = btoa(String.fromCharCode.apply(null, chunk));\n",
              "      yield {\n",
              "        response: {\n",
              "          action: 'append',\n",
              "          file: file.name,\n",
              "          data: base64,\n",
              "        },\n",
              "      };\n",
              "\n",
              "      let percentDone = fileData.byteLength === 0 ?\n",
              "          100 :\n",
              "          Math.round((position / fileData.byteLength) * 100);\n",
              "      percent.textContent = `${percentDone}% done`;\n",
              "\n",
              "    } while (position < fileData.byteLength);\n",
              "  }\n",
              "\n",
              "  // All done.\n",
              "  yield {\n",
              "    response: {\n",
              "      action: 'complete',\n",
              "    }\n",
              "  };\n",
              "}\n",
              "\n",
              "scope.google = scope.google || {};\n",
              "scope.google.colab = scope.google.colab || {};\n",
              "scope.google.colab._files = {\n",
              "  _uploadFiles,\n",
              "  _uploadFilesContinue,\n",
              "};\n",
              "})(self);\n",
              "</script> "
            ]
          },
          "metadata": {}
        },
        {
          "output_type": "stream",
          "name": "stdout",
          "text": [
            "Saving Mall_Customers.csv to Mall_Customers.csv\n"
          ]
        }
      ]
    },
    {
      "cell_type": "code",
      "source": [
        "dataset =pd.read_csv('Mall_Customers.csv')\n",
        "dataset"
      ],
      "metadata": {
        "colab": {
          "base_uri": "https://localhost:8080/",
          "height": 424
        },
        "id": "dtVAdXhvgSWp",
        "outputId": "529415f9-efe6-49d1-c8b8-da61d4eb8da5"
      },
      "execution_count": null,
      "outputs": [
        {
          "output_type": "execute_result",
          "data": {
            "text/plain": [
              "     CustomerID  Genre  Age  Annual Income (k$)  Spending Score (1-100)\n",
              "0             1      2   19                  15                       0\n",
              "1             2      2   21                  15                       1\n",
              "2             3      1   20                  16                       0\n",
              "3             4      1   23                  16                       1\n",
              "4             5      1   31                  17                       0\n",
              "..          ...    ...  ...                 ...                     ...\n",
              "195         196      1   35                 120                       1\n",
              "196         197      1   45                 126                       0\n",
              "197         198      2   32                 126                       1\n",
              "198         199      2   32                 137                       0\n",
              "199         200      2   30                 137                       1\n",
              "\n",
              "[200 rows x 5 columns]"
            ],
            "text/html": [
              "\n",
              "  <div id=\"df-24a8b7a7-1ece-46a5-9947-335b93967b44\">\n",
              "    <div class=\"colab-df-container\">\n",
              "      <div>\n",
              "<style scoped>\n",
              "    .dataframe tbody tr th:only-of-type {\n",
              "        vertical-align: middle;\n",
              "    }\n",
              "\n",
              "    .dataframe tbody tr th {\n",
              "        vertical-align: top;\n",
              "    }\n",
              "\n",
              "    .dataframe thead th {\n",
              "        text-align: right;\n",
              "    }\n",
              "</style>\n",
              "<table border=\"1\" class=\"dataframe\">\n",
              "  <thead>\n",
              "    <tr style=\"text-align: right;\">\n",
              "      <th></th>\n",
              "      <th>CustomerID</th>\n",
              "      <th>Genre</th>\n",
              "      <th>Age</th>\n",
              "      <th>Annual Income (k$)</th>\n",
              "      <th>Spending Score (1-100)</th>\n",
              "    </tr>\n",
              "  </thead>\n",
              "  <tbody>\n",
              "    <tr>\n",
              "      <th>0</th>\n",
              "      <td>1</td>\n",
              "      <td>2</td>\n",
              "      <td>19</td>\n",
              "      <td>15</td>\n",
              "      <td>0</td>\n",
              "    </tr>\n",
              "    <tr>\n",
              "      <th>1</th>\n",
              "      <td>2</td>\n",
              "      <td>2</td>\n",
              "      <td>21</td>\n",
              "      <td>15</td>\n",
              "      <td>1</td>\n",
              "    </tr>\n",
              "    <tr>\n",
              "      <th>2</th>\n",
              "      <td>3</td>\n",
              "      <td>1</td>\n",
              "      <td>20</td>\n",
              "      <td>16</td>\n",
              "      <td>0</td>\n",
              "    </tr>\n",
              "    <tr>\n",
              "      <th>3</th>\n",
              "      <td>4</td>\n",
              "      <td>1</td>\n",
              "      <td>23</td>\n",
              "      <td>16</td>\n",
              "      <td>1</td>\n",
              "    </tr>\n",
              "    <tr>\n",
              "      <th>4</th>\n",
              "      <td>5</td>\n",
              "      <td>1</td>\n",
              "      <td>31</td>\n",
              "      <td>17</td>\n",
              "      <td>0</td>\n",
              "    </tr>\n",
              "    <tr>\n",
              "      <th>...</th>\n",
              "      <td>...</td>\n",
              "      <td>...</td>\n",
              "      <td>...</td>\n",
              "      <td>...</td>\n",
              "      <td>...</td>\n",
              "    </tr>\n",
              "    <tr>\n",
              "      <th>195</th>\n",
              "      <td>196</td>\n",
              "      <td>1</td>\n",
              "      <td>35</td>\n",
              "      <td>120</td>\n",
              "      <td>1</td>\n",
              "    </tr>\n",
              "    <tr>\n",
              "      <th>196</th>\n",
              "      <td>197</td>\n",
              "      <td>1</td>\n",
              "      <td>45</td>\n",
              "      <td>126</td>\n",
              "      <td>0</td>\n",
              "    </tr>\n",
              "    <tr>\n",
              "      <th>197</th>\n",
              "      <td>198</td>\n",
              "      <td>2</td>\n",
              "      <td>32</td>\n",
              "      <td>126</td>\n",
              "      <td>1</td>\n",
              "    </tr>\n",
              "    <tr>\n",
              "      <th>198</th>\n",
              "      <td>199</td>\n",
              "      <td>2</td>\n",
              "      <td>32</td>\n",
              "      <td>137</td>\n",
              "      <td>0</td>\n",
              "    </tr>\n",
              "    <tr>\n",
              "      <th>199</th>\n",
              "      <td>200</td>\n",
              "      <td>2</td>\n",
              "      <td>30</td>\n",
              "      <td>137</td>\n",
              "      <td>1</td>\n",
              "    </tr>\n",
              "  </tbody>\n",
              "</table>\n",
              "<p>200 rows × 5 columns</p>\n",
              "</div>\n",
              "      <button class=\"colab-df-convert\" onclick=\"convertToInteractive('df-24a8b7a7-1ece-46a5-9947-335b93967b44')\"\n",
              "              title=\"Convert this dataframe to an interactive table.\"\n",
              "              style=\"display:none;\">\n",
              "        \n",
              "  <svg xmlns=\"http://www.w3.org/2000/svg\" height=\"24px\"viewBox=\"0 0 24 24\"\n",
              "       width=\"24px\">\n",
              "    <path d=\"M0 0h24v24H0V0z\" fill=\"none\"/>\n",
              "    <path d=\"M18.56 5.44l.94 2.06.94-2.06 2.06-.94-2.06-.94-.94-2.06-.94 2.06-2.06.94zm-11 1L8.5 8.5l.94-2.06 2.06-.94-2.06-.94L8.5 2.5l-.94 2.06-2.06.94zm10 10l.94 2.06.94-2.06 2.06-.94-2.06-.94-.94-2.06-.94 2.06-2.06.94z\"/><path d=\"M17.41 7.96l-1.37-1.37c-.4-.4-.92-.59-1.43-.59-.52 0-1.04.2-1.43.59L10.3 9.45l-7.72 7.72c-.78.78-.78 2.05 0 2.83L4 21.41c.39.39.9.59 1.41.59.51 0 1.02-.2 1.41-.59l7.78-7.78 2.81-2.81c.8-.78.8-2.07 0-2.86zM5.41 20L4 18.59l7.72-7.72 1.47 1.35L5.41 20z\"/>\n",
              "  </svg>\n",
              "      </button>\n",
              "      \n",
              "  <style>\n",
              "    .colab-df-container {\n",
              "      display:flex;\n",
              "      flex-wrap:wrap;\n",
              "      gap: 12px;\n",
              "    }\n",
              "\n",
              "    .colab-df-convert {\n",
              "      background-color: #E8F0FE;\n",
              "      border: none;\n",
              "      border-radius: 50%;\n",
              "      cursor: pointer;\n",
              "      display: none;\n",
              "      fill: #1967D2;\n",
              "      height: 32px;\n",
              "      padding: 0 0 0 0;\n",
              "      width: 32px;\n",
              "    }\n",
              "\n",
              "    .colab-df-convert:hover {\n",
              "      background-color: #E2EBFA;\n",
              "      box-shadow: 0px 1px 2px rgba(60, 64, 67, 0.3), 0px 1px 3px 1px rgba(60, 64, 67, 0.15);\n",
              "      fill: #174EA6;\n",
              "    }\n",
              "\n",
              "    [theme=dark] .colab-df-convert {\n",
              "      background-color: #3B4455;\n",
              "      fill: #D2E3FC;\n",
              "    }\n",
              "\n",
              "    [theme=dark] .colab-df-convert:hover {\n",
              "      background-color: #434B5C;\n",
              "      box-shadow: 0px 1px 3px 1px rgba(0, 0, 0, 0.15);\n",
              "      filter: drop-shadow(0px 1px 2px rgba(0, 0, 0, 0.3));\n",
              "      fill: #FFFFFF;\n",
              "    }\n",
              "  </style>\n",
              "\n",
              "      <script>\n",
              "        const buttonEl =\n",
              "          document.querySelector('#df-24a8b7a7-1ece-46a5-9947-335b93967b44 button.colab-df-convert');\n",
              "        buttonEl.style.display =\n",
              "          google.colab.kernel.accessAllowed ? 'block' : 'none';\n",
              "\n",
              "        async function convertToInteractive(key) {\n",
              "          const element = document.querySelector('#df-24a8b7a7-1ece-46a5-9947-335b93967b44');\n",
              "          const dataTable =\n",
              "            await google.colab.kernel.invokeFunction('convertToInteractive',\n",
              "                                                     [key], {});\n",
              "          if (!dataTable) return;\n",
              "\n",
              "          const docLinkHtml = 'Like what you see? Visit the ' +\n",
              "            '<a target=\"_blank\" href=https://colab.research.google.com/notebooks/data_table.ipynb>data table notebook</a>'\n",
              "            + ' to learn more about interactive tables.';\n",
              "          element.innerHTML = '';\n",
              "          dataTable['output_type'] = 'display_data';\n",
              "          await google.colab.output.renderOutput(dataTable, element);\n",
              "          const docLink = document.createElement('div');\n",
              "          docLink.innerHTML = docLinkHtml;\n",
              "          element.appendChild(docLink);\n",
              "        }\n",
              "      </script>\n",
              "    </div>\n",
              "  </div>\n",
              "  "
            ]
          },
          "metadata": {},
          "execution_count": 4
        }
      ]
    },
    {
      "cell_type": "code",
      "source": [
        "print(dataset.info())"
      ],
      "metadata": {
        "colab": {
          "base_uri": "https://localhost:8080/"
        },
        "id": "KFs7tfWPglV6",
        "outputId": "7d99df6e-abc8-4f17-d8e9-486ab6da9e50"
      },
      "execution_count": null,
      "outputs": [
        {
          "output_type": "stream",
          "name": "stdout",
          "text": [
            "<class 'pandas.core.frame.DataFrame'>\n",
            "RangeIndex: 200 entries, 0 to 199\n",
            "Data columns (total 5 columns):\n",
            " #   Column                  Non-Null Count  Dtype\n",
            "---  ------                  --------------  -----\n",
            " 0   CustomerID              200 non-null    int64\n",
            " 1   Genre                   200 non-null    int64\n",
            " 2   Age                     200 non-null    int64\n",
            " 3   Annual Income (k$)      200 non-null    int64\n",
            " 4   Spending Score (1-100)  200 non-null    int64\n",
            "dtypes: int64(5)\n",
            "memory usage: 7.9 KB\n",
            "None\n"
          ]
        }
      ]
    },
    {
      "cell_type": "code",
      "source": [
        "print(dataset.shape)\n",
        "print(dataset.head())\n",
        "print(dataset.tail())"
      ],
      "metadata": {
        "colab": {
          "base_uri": "https://localhost:8080/"
        },
        "id": "MeHiMg4Hizpw",
        "outputId": "2c16833b-3b5a-4611-889f-839226321f98"
      },
      "execution_count": null,
      "outputs": [
        {
          "output_type": "stream",
          "name": "stdout",
          "text": [
            "(200, 5)\n",
            "   CustomerID  Genre  Age  Annual Income (k$)  Spending Score (1-100)\n",
            "0           1      2   19                  15                       0\n",
            "1           2      2   21                  15                       1\n",
            "2           3      1   20                  16                       0\n",
            "3           4      1   23                  16                       1\n",
            "4           5      1   31                  17                       0\n",
            "     CustomerID  Genre  Age  Annual Income (k$)  Spending Score (1-100)\n",
            "195         196      1   35                 120                       1\n",
            "196         197      1   45                 126                       0\n",
            "197         198      2   32                 126                       1\n",
            "198         199      2   32                 137                       0\n",
            "199         200      2   30                 137                       1\n"
          ]
        }
      ]
    },
    {
      "cell_type": "markdown",
      "source": [
        "MAPPING\n"
      ],
      "metadata": {
        "id": "cEaUB4PZjI13"
      }
    },
    {
      "cell_type": "code",
      "source": [
        "##Spend = set(dataset['Spending Score (1-100)'])\n",
        "##dataset['Spending Score (1-100)']= dataset['Spending Score (1-100)'].map({'<=50' : 0, '>50':1}).astype(int)\n",
        "##print(dataset.head())"
      ],
      "metadata": {
        "id": "zdjYnmu7i8-F"
      },
      "execution_count": null,
      "outputs": []
    },
    {
      "cell_type": "markdown",
      "source": [
        "Separate Dataset into X(Input/ Independent variable) & Y (Output/ Dependent Variable)"
      ],
      "metadata": {
        "id": "q6Axl1CQp-9R"
      }
    },
    {
      "cell_type": "code",
      "source": [
        "X= dataset.iloc[:, :-1].values\n",
        "X"
      ],
      "metadata": {
        "colab": {
          "base_uri": "https://localhost:8080/"
        },
        "id": "Vpkhsl3xkszE",
        "outputId": "79e2bf20-68ac-4cd3-a8d6-d7784e85cbae"
      },
      "execution_count": null,
      "outputs": [
        {
          "output_type": "execute_result",
          "data": {
            "text/plain": [
              "array([[  1,   2,  19,  15],\n",
              "       [  2,   2,  21,  15],\n",
              "       [  3,   1,  20,  16],\n",
              "       [  4,   1,  23,  16],\n",
              "       [  5,   1,  31,  17],\n",
              "       [  6,   1,  22,  17],\n",
              "       [  7,   1,  35,  18],\n",
              "       [  8,   1,  23,  18],\n",
              "       [  9,   2,  64,  19],\n",
              "       [ 10,   1,  30,  19],\n",
              "       [ 11,   2,  67,  19],\n",
              "       [ 12,   1,  35,  19],\n",
              "       [ 13,   1,  58,  20],\n",
              "       [ 14,   1,  24,  20],\n",
              "       [ 15,   2,  37,  20],\n",
              "       [ 16,   2,  22,  20],\n",
              "       [ 17,   1,  35,  21],\n",
              "       [ 18,   2,  20,  21],\n",
              "       [ 19,   2,  52,  23],\n",
              "       [ 20,   1,  35,  23],\n",
              "       [ 21,   2,  35,  24],\n",
              "       [ 22,   2,  25,  24],\n",
              "       [ 23,   1,  46,  25],\n",
              "       [ 24,   2,  31,  25],\n",
              "       [ 25,   1,  54,  28],\n",
              "       [ 26,   2,  29,  28],\n",
              "       [ 27,   1,  45,  28],\n",
              "       [ 28,   2,  35,  28],\n",
              "       [ 29,   1,  40,  29],\n",
              "       [ 30,   1,  23,  29],\n",
              "       [ 31,   2,  60,  30],\n",
              "       [ 32,   1,  21,  30],\n",
              "       [ 33,   2,  53,  33],\n",
              "       [ 34,   2,  18,  33],\n",
              "       [ 35,   1,  49,  33],\n",
              "       [ 36,   1,  21,  33],\n",
              "       [ 37,   1,  42,  34],\n",
              "       [ 38,   1,  30,  34],\n",
              "       [ 39,   1,  36,  37],\n",
              "       [ 40,   1,  20,  37],\n",
              "       [ 41,   1,  65,  38],\n",
              "       [ 42,   2,  24,  38],\n",
              "       [ 43,   2,  48,  39],\n",
              "       [ 44,   1,  31,  39],\n",
              "       [ 45,   1,  49,  39],\n",
              "       [ 46,   1,  24,  39],\n",
              "       [ 47,   1,  50,  40],\n",
              "       [ 48,   1,  27,  40],\n",
              "       [ 49,   1,  29,  40],\n",
              "       [ 50,   1,  31,  40],\n",
              "       [ 51,   1,  49,  42],\n",
              "       [ 52,   2,  33,  42],\n",
              "       [ 53,   1,  31,  43],\n",
              "       [ 54,   2,  59,  43],\n",
              "       [ 55,   1,  50,  43],\n",
              "       [ 56,   2,  47,  43],\n",
              "       [ 57,   1,  51,  44],\n",
              "       [ 58,   2,  69,  44],\n",
              "       [ 59,   1,  27,  46],\n",
              "       [ 60,   2,  53,  46],\n",
              "       [ 61,   2,  70,  46],\n",
              "       [ 62,   2,  19,  46],\n",
              "       [ 63,   1,  67,  47],\n",
              "       [ 64,   1,  54,  47],\n",
              "       [ 65,   2,  63,  48],\n",
              "       [ 66,   2,  18,  48],\n",
              "       [ 67,   1,  43,  48],\n",
              "       [ 68,   1,  68,  48],\n",
              "       [ 69,   2,  19,  48],\n",
              "       [ 70,   1,  32,  48],\n",
              "       [ 71,   2,  70,  49],\n",
              "       [ 72,   1,  47,  49],\n",
              "       [ 73,   1,  60,  50],\n",
              "       [ 74,   1,  60,  50],\n",
              "       [ 75,   2,  59,  54],\n",
              "       [ 76,   2,  26,  54],\n",
              "       [ 77,   1,  45,  54],\n",
              "       [ 78,   2,  40,  54],\n",
              "       [ 79,   1,  23,  54],\n",
              "       [ 80,   1,  49,  54],\n",
              "       [ 81,   2,  57,  54],\n",
              "       [ 82,   2,  38,  54],\n",
              "       [ 83,   2,  67,  54],\n",
              "       [ 84,   1,  46,  54],\n",
              "       [ 85,   1,  21,  54],\n",
              "       [ 86,   2,  48,  54],\n",
              "       [ 87,   1,  55,  57],\n",
              "       [ 88,   1,  22,  57],\n",
              "       [ 89,   1,  34,  58],\n",
              "       [ 90,   1,  50,  58],\n",
              "       [ 91,   1,  68,  59],\n",
              "       [ 92,   2,  18,  59],\n",
              "       [ 93,   2,  48,  60],\n",
              "       [ 94,   1,  40,  60],\n",
              "       [ 95,   1,  32,  60],\n",
              "       [ 96,   2,  24,  60],\n",
              "       [ 97,   1,  47,  60],\n",
              "       [ 98,   1,  27,  60],\n",
              "       [ 99,   2,  48,  61],\n",
              "       [100,   2,  20,  61],\n",
              "       [101,   1,  23,  62],\n",
              "       [102,   1,  49,  62],\n",
              "       [103,   2,  67,  62],\n",
              "       [104,   2,  26,  62],\n",
              "       [105,   2,  49,  62],\n",
              "       [106,   1,  21,  62],\n",
              "       [107,   1,  66,  63],\n",
              "       [108,   2,  54,  63],\n",
              "       [109,   2,  68,  63],\n",
              "       [110,   2,  66,  63],\n",
              "       [111,   2,  65,  63],\n",
              "       [112,   1,  19,  63],\n",
              "       [113,   1,  38,  64],\n",
              "       [114,   2,  19,  64],\n",
              "       [115,   1,  18,  65],\n",
              "       [116,   1,  19,  65],\n",
              "       [117,   1,  63,  65],\n",
              "       [118,   1,  49,  65],\n",
              "       [119,   1,  51,  67],\n",
              "       [120,   1,  50,  67],\n",
              "       [121,   2,  27,  67],\n",
              "       [122,   1,  38,  67],\n",
              "       [123,   1,  40,  69],\n",
              "       [124,   2,  39,  69],\n",
              "       [125,   1,  23,  70],\n",
              "       [126,   1,  31,  70],\n",
              "       [127,   2,  43,  71],\n",
              "       [128,   2,  40,  71],\n",
              "       [129,   2,  59,  71],\n",
              "       [130,   2,  38,  71],\n",
              "       [131,   2,  47,  71],\n",
              "       [132,   2,  39,  71],\n",
              "       [133,   1,  25,  72],\n",
              "       [134,   1,  31,  72],\n",
              "       [135,   2,  20,  73],\n",
              "       [136,   1,  29,  73],\n",
              "       [137,   1,  44,  73],\n",
              "       [138,   2,  32,  73],\n",
              "       [139,   2,  19,  74],\n",
              "       [140,   1,  35,  74],\n",
              "       [141,   1,  57,  75],\n",
              "       [142,   2,  32,  75],\n",
              "       [143,   1,  28,  76],\n",
              "       [144,   1,  32,  76],\n",
              "       [145,   2,  25,  77],\n",
              "       [146,   2,  28,  77],\n",
              "       [147,   2,  48,  77],\n",
              "       [148,   1,  32,  77],\n",
              "       [149,   1,  34,  78],\n",
              "       [150,   2,  34,  78],\n",
              "       [151,   2,  43,  78],\n",
              "       [152,   2,  39,  78],\n",
              "       [153,   1,  44,  78],\n",
              "       [154,   1,  38,  78],\n",
              "       [155,   1,  47,  78],\n",
              "       [156,   1,  27,  78],\n",
              "       [157,   2,  37,  78],\n",
              "       [158,   1,  30,  78],\n",
              "       [159,   2,  34,  78],\n",
              "       [160,   1,  30,  78],\n",
              "       [161,   1,  56,  79],\n",
              "       [162,   1,  29,  79],\n",
              "       [163,   2,  19,  81],\n",
              "       [164,   1,  31,  81],\n",
              "       [165,   2,  50,  85],\n",
              "       [166,   1,  36,  85],\n",
              "       [167,   2,  42,  86],\n",
              "       [168,   1,  33,  86],\n",
              "       [169,   1,  36,  87],\n",
              "       [170,   2,  32,  87],\n",
              "       [171,   2,  40,  87],\n",
              "       [172,   2,  28,  87],\n",
              "       [173,   2,  36,  87],\n",
              "       [174,   2,  36,  87],\n",
              "       [175,   1,  52,  88],\n",
              "       [176,   1,  30,  88],\n",
              "       [177,   2,  58,  88],\n",
              "       [178,   2,  27,  88],\n",
              "       [179,   2,  59,  93],\n",
              "       [180,   2,  35,  93],\n",
              "       [181,   1,  37,  97],\n",
              "       [182,   1,  32,  97],\n",
              "       [183,   2,  46,  98],\n",
              "       [184,   1,  29,  98],\n",
              "       [185,   1,  41,  99],\n",
              "       [186,   2,  30,  99],\n",
              "       [187,   1,  54, 101],\n",
              "       [188,   2,  28, 101],\n",
              "       [189,   1,  41, 103],\n",
              "       [190,   1,  36, 103],\n",
              "       [191,   1,  34, 103],\n",
              "       [192,   1,  32, 103],\n",
              "       [193,   2,  33, 113],\n",
              "       [194,   1,  38, 113],\n",
              "       [195,   1,  47, 120],\n",
              "       [196,   1,  35, 120],\n",
              "       [197,   1,  45, 126],\n",
              "       [198,   2,  32, 126],\n",
              "       [199,   2,  32, 137],\n",
              "       [200,   2,  30, 137]])"
            ]
          },
          "metadata": {},
          "execution_count": 8
        }
      ]
    },
    {
      "cell_type": "code",
      "source": [
        "y = dataset.iloc[:,-1].values\n",
        "y"
      ],
      "metadata": {
        "id": "fJpq7n10qPrj",
        "outputId": "c495b47d-78f8-4877-f957-8ada38cd40e3",
        "colab": {
          "base_uri": "https://localhost:8080/"
        }
      },
      "execution_count": null,
      "outputs": [
        {
          "output_type": "execute_result",
          "data": {
            "text/plain": [
              "array([0, 1, 0, 1, 0, 1, 0, 1, 0, 1, 0, 1, 0, 1, 0, 1, 0, 1, 0, 1, 0, 1,\n",
              "       0, 1, 0, 1, 0, 1, 0, 1, 0, 1, 0, 1, 0, 1, 0, 1, 0, 1, 0, 1, 0, 1,\n",
              "       0, 1, 1, 0, 0, 0, 1, 1, 1, 1, 0, 0, 0, 0, 1, 0, 1, 1, 1, 1, 1, 1,\n",
              "       0, 0, 1, 0, 1, 0, 0, 1, 0, 1, 1, 0, 1, 0, 1, 1, 0, 0, 1, 0, 1, 1,\n",
              "       1, 0, 1, 0, 0, 0, 0, 1, 0, 0, 0, 0, 0, 0, 1, 1, 1, 0, 0, 0, 0, 0,\n",
              "       1, 1, 0, 0, 0, 0, 0, 1, 0, 1, 1, 0, 1, 1, 0, 1, 0, 1, 0, 1, 0, 1,\n",
              "       0, 1, 0, 1, 0, 1, 0, 1, 0, 1, 0, 1, 0, 1, 0, 1, 0, 1, 0, 1, 0, 1,\n",
              "       0, 1, 0, 1, 0, 1, 0, 1, 0, 1, 0, 1, 0, 1, 0, 1, 0, 1, 0, 1, 0, 1,\n",
              "       0, 1, 0, 1, 0, 1, 0, 1, 0, 1, 0, 1, 0, 1, 0, 1, 0, 1, 0, 1, 0, 1,\n",
              "       0, 1])"
            ]
          },
          "metadata": {},
          "execution_count": 9
        }
      ]
    },
    {
      "cell_type": "markdown",
      "source": [
        "Splitting Dataset"
      ],
      "metadata": {
        "id": "whsP9HGlqc5H"
      }
    },
    {
      "cell_type": "code",
      "source": [
        "!pip install scikit-learn"
      ],
      "metadata": {
        "id": "izKveP13qYvE",
        "outputId": "62d639b1-8a33-484f-8e6d-4a0b286e5e43",
        "colab": {
          "base_uri": "https://localhost:8080/"
        }
      },
      "execution_count": null,
      "outputs": [
        {
          "output_type": "stream",
          "name": "stdout",
          "text": [
            "Looking in indexes: https://pypi.org/simple, https://us-python.pkg.dev/colab-wheels/public/simple/\n",
            "Requirement already satisfied: scikit-learn in /usr/local/lib/python3.7/dist-packages (1.0.2)\n",
            "Requirement already satisfied: joblib>=0.11 in /usr/local/lib/python3.7/dist-packages (from scikit-learn) (1.2.0)\n",
            "Requirement already satisfied: scipy>=1.1.0 in /usr/local/lib/python3.7/dist-packages (from scikit-learn) (1.7.3)\n",
            "Requirement already satisfied: threadpoolctl>=2.0.0 in /usr/local/lib/python3.7/dist-packages (from scikit-learn) (3.1.0)\n",
            "Requirement already satisfied: numpy>=1.14.6 in /usr/local/lib/python3.7/dist-packages (from scikit-learn) (1.21.6)\n"
          ]
        }
      ]
    },
    {
      "cell_type": "code",
      "source": [
        "#Scikit Learn\n",
        "from sklearn.model_selection import train_test_split\n",
        "X_train, X_test, y_train, y_test= train_test_split(X, y, test_size=0.25, random_state=0)"
      ],
      "metadata": {
        "id": "6sPN95taqi_T"
      },
      "execution_count": null,
      "outputs": []
    },
    {
      "cell_type": "markdown",
      "source": [
        "Feature Scaling"
      ],
      "metadata": {
        "id": "pNdH79Isq-_T"
      }
    },
    {
      "cell_type": "code",
      "source": [
        "from sklearn.preprocessing import StandardScaler\n",
        "sc= StandardScaler()\n",
        "X_train = sc.fit_transform(X_train)\n",
        "X_test= sc.transform(X_test)\n",
        "X_train"
      ],
      "metadata": {
        "id": "Jk7Es8Gxq7XJ",
        "outputId": "0c7b8cbe-451d-4650-b7db-28c4ec2b5ab9",
        "colab": {
          "base_uri": "https://localhost:8080/"
        }
      },
      "execution_count": null,
      "outputs": [
        {
          "output_type": "execute_result",
          "data": {
            "text/plain": [
              "array([[-0.49683826, -0.86266219,  0.59131873, -0.44803883],\n",
              "       [ 0.42645864, -0.86266219, -1.10084935,  0.34173303],\n",
              "       [ 1.47170041, -0.86266219,  0.16827671,  1.43237037],\n",
              "       [-0.04390015, -0.86266219, -0.81882133, -0.03434881],\n",
              "       [ 0.86197605,  1.15920231, -0.32527231,  0.6425985 ],\n",
              "       [-1.31561098, -0.86266219,  1.08486776, -1.23781069],\n",
              "       [-1.2110868 ,  1.15920231,  1.50790978, -1.16259433],\n",
              "       [ 1.05360371, -0.86266219,  1.22588177,  0.68020669],\n",
              "       [-1.03687984, -0.86266219,  1.8604448 , -0.86172885],\n",
              "       [-0.7581487 , -0.86266219,  0.87334675, -0.63607975],\n",
              "       [ 0.54840352,  1.15920231,  0.02726271,  0.37934122],\n",
              "       [-0.06132085, -0.86266219,  0.59131873, -0.03434881],\n",
              "       [ 1.41943833, -0.86266219, -0.46628632,  1.357154  ],\n",
              "       [-1.40271446, -0.86266219, -0.25476531, -1.42585161],\n",
              "       [ 0.93165883, -0.86266219, -0.0432443 ,  0.6425985 ],\n",
              "       [-0.13100364,  1.15920231,  0.66182574, -0.03434881],\n",
              "       [-0.79299009, -0.86266219,  0.80283975, -0.67368793],\n",
              "       [ 1.10586579, -0.86266219, -0.53679332,  0.75542305],\n",
              "       [-0.84525218,  1.15920231, -0.39577931, -0.71129612],\n",
              "       [-0.23552781, -0.86266219,  1.15537476, -0.14717336],\n",
              "       [ 0.68776909, -0.86266219, -0.25476531,  0.49216577],\n",
              "       [-0.16584503, -0.86266219,  2.07196581, -0.07195699],\n",
              "       [ 0.65292769,  1.15920231, -0.46628632,  0.45455758],\n",
              "       [ 0.02578263, -0.86266219,  0.73233274,  0.04086756],\n",
              "       [ 0.77487257,  1.15920231, -0.95983534,  0.60499032],\n",
              "       [-0.18326572, -0.86266219,  0.80283975, -0.10956518],\n",
              "       [ 0.1651482 ,  1.15920231,  1.9309518 ,  0.07847574],\n",
              "       [-1.48981794,  1.15920231, -0.1137513 , -1.53867617],\n",
              "       [-1.26334889,  1.15920231, -0.25476531, -1.23781069],\n",
              "       [ 0.72261048,  1.15920231, -0.46628632,  0.52977395],\n",
              "       [ 1.5239625 ,  1.15920231, -0.74831433,  1.50758673],\n",
              "       [-0.93235566, -0.86266219,  0.80283975, -0.78651249],\n",
              "       [ 0.67034839,  1.15920231, -1.38287736,  0.49216577],\n",
              "       [ 1.66332807, -0.86266219, -0.25476531,  2.22214223],\n",
              "       [ 0.1477275 ,  1.15920231,  2.07196581,  0.07847574],\n",
              "       [-0.65362452, -0.86266219,  2.0014588 , -0.5232552 ],\n",
              "       [-1.69886629, -0.86266219, -1.31237036, -1.6891089 ],\n",
              "       [-0.70588661,  1.15920231,  1.01436076, -0.56086338],\n",
              "       [ 0.635507  , -0.86266219,  0.37979772,  0.45455758],\n",
              "       [ 1.69816947,  1.15920231, -0.46628632,  2.44779133],\n",
              "       [-0.98461775, -0.86266219, -0.53679332, -0.82412067],\n",
              "       [-1.55950072,  1.15920231,  2.0014588 , -1.57628435],\n",
              "       [ 1.64590738, -0.86266219,  0.59131873,  2.22214223],\n",
              "       [-0.46199686, -0.86266219,  1.50790978, -0.41043065],\n",
              "       [ 1.68074877, -0.86266219,  0.45030473,  2.44779133],\n",
              "       [ 1.36717624,  1.15920231,  1.43740278,  1.20672126],\n",
              "       [ 1.31491415, -0.86266219, -0.60730032,  1.01868034],\n",
              "       [ 0.46130004,  1.15920231,  0.30929072,  0.37934122],\n",
              "       [-0.11358294, -0.86266219,  0.09776971, -0.03434881],\n",
              "       [ 0.21741029, -0.86266219, -0.0432443 ,  0.11608393],\n",
              "       [ 1.01876231,  1.15920231, -0.32527231,  0.6425985 ],\n",
              "       [ 1.59364529, -0.86266219, -0.46628632,  1.5828031 ],\n",
              "       [-0.86267288, -0.86266219,  0.73233274, -0.71129612],\n",
              "       [-1.73370769,  1.15920231, -1.38287736, -1.72671709],\n",
              "       [-0.09616224, -0.86266219, -0.46628632, -0.03434881],\n",
              "       [ 0.1825689 ,  1.15920231,  1.8604448 ,  0.07847574],\n",
              "       [-0.07874155,  1.15920231, -1.03034234, -0.03434881],\n",
              "       [-0.61878313,  1.15920231,  1.71943079, -0.48564702],\n",
              "       [ 1.17554858, -0.86266219, -0.39577931,  0.94346397],\n",
              "       [-1.01945914,  1.15920231, -1.03034234, -0.86172885],\n",
              "       [-0.53167965, -0.86266219, -0.46628632, -0.48564702],\n",
              "       [-0.88009357, -0.86266219, -0.53679332, -0.78651249],\n",
              "       [-0.89751427, -0.86266219, -0.67780733, -0.78651249],\n",
              "       [-0.25294851,  1.15920231,  0.66182574, -0.25999791],\n",
              "       [-1.50723864, -0.86266219, -1.03034234, -1.53867617],\n",
              "       [ 1.0710244 , -0.86266219, -0.67780733,  0.68020669],\n",
              "       [-1.33303167,  1.15920231, -0.53679332, -1.35063525],\n",
              "       [ 1.50654181, -0.86266219,  1.08486776,  1.50758673],\n",
              "       [ 0.6180863 , -0.86266219, -0.67780733,  0.45455758],\n",
              "       [-1.38529376,  1.15920231, -0.25476531, -1.38824343],\n",
              "       [-1.47239724,  1.15920231, -1.17135635, -1.53867617],\n",
              "       [-0.37489338, -0.86266219, -1.10084935, -0.25999791],\n",
              "       [ 0.07804472,  1.15920231,  0.73233274,  0.04086756],\n",
              "       [-0.82783148, -0.86266219, -0.53679332, -0.67368793],\n",
              "       [ 0.00836193, -0.86266219, -1.10084935,  0.04086756],\n",
              "       [-0.40973477, -0.86266219,  0.45030473, -0.25999791],\n",
              "       [-1.6814456 , -0.86266219, -1.10084935, -1.6891089 ],\n",
              "       [ 0.28709307, -0.86266219,  1.71943079,  0.15369211],\n",
              "       [ 1.12328649,  1.15920231,  0.80283975,  0.90585579],\n",
              "       [ 1.71559016,  1.15920231, -0.46628632,  2.86148135],\n",
              "       [-1.62918351, -0.86266219, -0.25476531, -1.61389253],\n",
              "       [-0.54910034,  1.15920231, -1.38287736, -0.48564702],\n",
              "       [-0.27036921, -0.86266219, -1.24186335, -0.25999791],\n",
              "       [ 0.37419655, -0.86266219, -0.0432443 ,  0.22890848],\n",
              "       [ 0.96650023, -0.86266219, -0.81882133,  0.6425985 ],\n",
              "       [ 1.24523136,  1.15920231, -0.74831433,  0.98107216],\n",
              "       [ 0.98392092,  1.15920231, -0.1137513 ,  0.6425985 ],\n",
              "       [-0.14842433,  1.15920231, -1.45338436, -0.07195699],\n",
              "       [ 1.73301086,  1.15920231, -0.60730032,  2.86148135],\n",
              "       [-1.54208003, -0.86266219, -0.25476531, -1.57628435],\n",
              "       [ 0.33935516, -0.86266219,  0.80283975,  0.22890848],\n",
              "       [ 0.04320333,  1.15920231,  2.0014588 ,  0.04086756],\n",
              "       [-1.12398332, -0.86266219, -1.24186335, -1.04976977],\n",
              "       [-0.740728  ,  1.15920231,  2.14247281, -0.63607975],\n",
              "       [-0.60136243,  1.15920231, -1.45338436, -0.48564702],\n",
              "       [-1.71628699,  1.15920231, -1.24186335, -1.72671709],\n",
              "       [ 0.35677586,  1.15920231, -0.81882133,  0.22890848],\n",
              "       [ 1.0884451 ,  1.15920231, -1.38287736,  0.75542305],\n",
              "       [-1.00203845,  1.15920231,  0.66182574, -0.82412067],\n",
              "       [ 0.09546542, -0.86266219, -1.24186335,  0.04086756],\n",
              "       [ 0.56582421, -0.86266219, -0.95983534,  0.4169494 ],\n",
              "       [ 1.28007276,  1.15920231, -0.1842583 ,  0.98107216],\n",
              "       [-1.43755585,  1.15920231, -1.31237036, -1.50106798],\n",
              "       [-1.07172123, -0.86266219, -0.1842583 , -0.89933704],\n",
              "       [ 0.58324491, -0.86266219, -0.53679332,  0.4169494 ],\n",
              "       [-0.81041079,  1.15920231,  1.43740278, -0.67368793],\n",
              "       [ 1.00134162, -0.86266219, -0.60730032,  0.6425985 ],\n",
              "       [ 0.49614143,  1.15920231,  1.43740278,  0.37934122],\n",
              "       [-1.14140401, -0.86266219,  0.73233274, -1.04976977],\n",
              "       [-1.24592819, -0.86266219,  0.09776971, -1.20020251],\n",
              "       [ 0.25225168, -0.86266219, -1.45338436,  0.15369211],\n",
              "       [ 0.89681744,  1.15920231,  0.02726271,  0.6425985 ],\n",
              "       [-1.1936661 , -0.86266219, -1.24186335, -1.16259433],\n",
              "       [ 1.15812788,  1.15920231,  0.23878372,  0.94346397],\n",
              "       [ 0.47872073,  1.15920231,  0.09776971,  0.37934122],\n",
              "       [ 1.33233485,  1.15920231,  1.36689577,  1.01868034],\n",
              "       [-1.17624541,  1.15920231,  1.01436076, -1.04976977],\n",
              "       [ 0.74003117, -0.86266219, -0.74831433,  0.56738213],\n",
              "       [ 1.21038997,  1.15920231, -0.46628632,  0.98107216],\n",
              "       [ 0.82713466, -0.86266219, -0.46628632,  0.60499032],\n",
              "       [-1.2285075 , -0.86266219, -1.10084935, -1.20020251],\n",
              "       [-0.00905876,  1.15920231, -1.31237036,  0.00325938],\n",
              "       [-0.3052106 ,  1.15920231,  2.0014588 , -0.25999791],\n",
              "       [-0.35747269, -0.86266219,  0.73233274, -0.25999791],\n",
              "       [ 0.26967238, -0.86266219, -1.38287736,  0.15369211],\n",
              "       [ 0.84455535, -0.86266219, -0.32527231,  0.6425985 ],\n",
              "       [ 1.62848668, -0.86266219, -0.0432443 ,  1.95888494],\n",
              "       [-0.47941756, -0.86266219,  1.50790978, -0.41043065],\n",
              "       [-0.39231408,  1.15920231,  0.09776971, -0.25999791],\n",
              "       [-1.29819028,  1.15920231, -0.67780733, -1.23781069],\n",
              "       [ 1.14070719, -0.86266219, -0.1842583 ,  0.90585579],\n",
              "       [-0.32263129,  1.15920231, -0.0432443 , -0.25999791],\n",
              "       [ 1.5413832 , -0.86266219,  0.16827671,  1.5828031 ],\n",
              "       [ 1.29749345, -0.86266219,  0.94385375,  1.01868034],\n",
              "       [ 1.57622459, -0.86266219, -0.32527231,  1.5828031 ],\n",
              "       [-1.05430053, -0.86266219, -1.31237036, -0.89933704],\n",
              "       [-0.72330731, -0.86266219, -0.81882133, -0.56086338],\n",
              "       [ 0.70518978, -0.86266219,  1.29638877,  0.52977395],\n",
              "       [-0.20068642, -0.86266219, -0.32527231, -0.10956518],\n",
              "       [-0.51425895,  1.15920231,  2.21297981, -0.44803883],\n",
              "       [-0.21810712, -0.86266219, -1.17135635, -0.14717336],\n",
              "       [-1.10656262, -0.86266219,  0.23878372, -1.01216159],\n",
              "       [-1.36787307,  1.15920231, -0.95983534, -1.38824343],\n",
              "       [-1.57692142, -0.86266219, -0.60730032, -1.57628435],\n",
              "       [ 0.06062402,  1.15920231, -0.88932834,  0.04086756],\n",
              "       [-0.56652104, -0.86266219,  2.07196581, -0.48564702],\n",
              "       [ 1.61106598,  1.15920231, -0.39577931,  1.95888494],\n",
              "       [ 0.30451377, -0.86266219,  0.73233274,  0.15369211],\n",
              "       [-0.91493496, -0.86266219, -0.81882133, -0.78651249],\n",
              "       [ 1.26265206,  1.15920231, -0.1842583 ,  0.98107216]])"
            ]
          },
          "metadata": {},
          "execution_count": 12
        }
      ]
    },
    {
      "cell_type": "markdown",
      "source": [
        "Finding the best K-value"
      ],
      "metadata": {
        "id": "V3ehQPMqul95"
      }
    },
    {
      "cell_type": "code",
      "source": [
        "error = []\n",
        "from sklearn.neighbors import KNeighborsClassifier\n",
        "import matplotlib.pyplot as plt\n",
        "\n",
        "#Calculating error for K values between 1 and 40\n",
        "for i in range (1, 40):\n",
        "  model = KNeighborsClassifier(n_neighbors=i)\n",
        "  model.fit(X_train, y_train)\n",
        "  pred_i= model.predict(X_test)\n",
        "  error.append(np.mean(pred_i != y_test ))\n",
        "\n",
        "plt.figure(figsize =(12,6))\n",
        "plt.plot(range(1, 40), error, color='red', linestyle= 'dashed', marker='o', markerfacecolor= 'blue', markersize= 10)\n",
        "plt.title('Error Rate K Value')\n",
        "plt.xlabel('K Value')\n",
        "plt.ylabel('Mean Error')\n",
        "                  "
      ],
      "metadata": {
        "id": "aVgW7_v4uAit",
        "outputId": "26436158-bcf1-4a9b-a59f-4644196fbc52",
        "colab": {
          "base_uri": "https://localhost:8080/",
          "height": 366
        }
      },
      "execution_count": null,
      "outputs": [
        {
          "output_type": "execute_result",
          "data": {
            "text/plain": [
              "Text(0, 0.5, 'Mean Error')"
            ]
          },
          "metadata": {},
          "execution_count": 13
        },
        {
          "output_type": "display_data",
          "data": {
            "text/plain": [
              "<Figure size 864x432 with 1 Axes>"
            ],
            "image/png": "[encoded data removed]"
          },
          "metadata": {
            "needs_background": "light"
          }
        }
      ]
    },
    {
      "cell_type": "markdown",
      "source": [
        "Training"
      ],
      "metadata": {
        "id": "pMQzcCwty312"
      }
    },
    {
      "cell_type": "code",
      "source": [
        "from sklearn.neighbors import KNeighborsClassifier\n",
        "model = KNeighborsClassifier(n_neighbors=5, metric= 'minkowski' , p=2 )\n",
        "model.fit(X_train, y_train)"
      ],
      "metadata": {
        "id": "8cKY5VFFyNsV",
        "outputId": "b299f20f-4168-471b-f5a9-d3382a1b1bf9",
        "colab": {
          "base_uri": "https://localhost:8080/"
        }
      },
      "execution_count": null,
      "outputs": [
        {
          "output_type": "execute_result",
          "data": {
            "text/plain": [
              "KNeighborsClassifier()"
            ]
          },
          "metadata": {},
          "execution_count": 14
        }
      ]
    },
    {
      "cell_type": "markdown",
      "source": [
        "Predicting whether n"
      ],
      "metadata": {
        "id": "YvM1WEOOzXJi"
      }
    },
    {
      "cell_type": "code",
      "source": [
        "y_pred = model.predict(X_test)"
      ],
      "metadata": {
        "id": "VPiaycvhzR6V"
      },
      "execution_count": null,
      "outputs": []
    },
    {
      "cell_type": "code",
      "source": [
        "from sklearn.metrics import confusion_matrix, accuracy_score\n",
        "print(\"Accuracy of the Model: {0}% \". format(accuracy_score(y_test, y_pred)*100))"
      ],
      "metadata": {
        "id": "qE8j5JAnzh_a",
        "outputId": "ae9890ad-96ab-4fcb-c52e-428266dc0c44",
        "colab": {
          "base_uri": "https://localhost:8080/"
        }
      },
      "execution_count": null,
      "outputs": [
        {
          "output_type": "stream",
          "name": "stdout",
          "text": [
            "Accuracy of the Model: 76.0% \n"
          ]
        }
      ]
    },
    {
      "cell_type": "code",
      "source": [
        "CustomerID= int(input(\"Enter CustomerID:\"))\n",
        "Genre  = int(input(\"Enter Gender 1:Female 2: Male:\"))\n",
        "Age  = int(input(\"Enter age:\"))\n",
        "AnnualIncome = int(input(\"Enter Annual Income:\"))\n",
        "Score = [[CustomerID, Genre, Age, AnnualIncome]]\n",
        "result= model.predict(sc.transform(Score))\n",
        "print(result)\n",
        "\n",
        "if result == 1:\n",
        "  print(\"Spending Score above 50\")\n",
        "else: \n",
        "  print(\"Spending Score not above 50\")"
      ],
      "metadata": {
        "id": "cJRODQnW0V40",
        "outputId": "fd9b7310-16c0-4545-c1c5-5ba7746cd3da",
        "colab": {
          "base_uri": "https://localhost:8080/"
        }
      },
      "execution_count": null,
      "outputs": [
        {
          "output_type": "stream",
          "name": "stdout",
          "text": [
            "Enter CustomerID:1\n",
            "Enter Gender 1:Female 2: Male:1\n",
            "Enter age:1\n",
            "Enter Annual Income:12\n",
            "[1]\n",
            "Spending Score above 50\n"
          ]
        }
      ]
    },
    {
      "cell_type": "code",
      "source": [
        "2"
      ],
      "metadata": {
        "id": "6eBYgP163vCc"
      },
      "execution_count": null,
      "outputs": []
    }
  ]
}